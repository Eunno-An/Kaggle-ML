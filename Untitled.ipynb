{
 "cells": [
  {
   "cell_type": "code",
   "execution_count": 2,
   "metadata": {},
   "outputs": [
    {
     "name": "stdout",
     "output_type": "stream",
     "text": [
      "['heart.csv']\n"
     ]
    }
   ],
   "source": [
    "import numpy as np #선형 대수 라이브러리\n",
    "import pandas as pd #데이터 처리, CSV 파일 입출력\n",
    "\n",
    "import os\n",
    "print(os.listdir(\"../list\"))\n",
    "    "
   ]
  },
  {
   "cell_type": "code",
   "execution_count": 3,
   "metadata": {},
   "outputs": [],
   "source": [
    "import pandas as pd\n",
    "import numpy as np\n",
    "from scipy.stats import randint as sp_randint\n",
    "import matplotlib.pyplot as plt\n",
    "import seaborn as sns\n",
    "import warnings"
   ]
  },
  {
   "cell_type": "code",
   "execution_count": 4,
   "metadata": {},
   "outputs": [],
   "source": [
    "warnings.filterwarnings(\"ignore\")"
   ]
  },
  {
   "cell_type": "code",
   "execution_count": 5,
   "metadata": {},
   "outputs": [],
   "source": [
    "#age: age in years\n",
    "#sex: (1 = male, 0 = female)\n",
    "#cp: chest pain type(Value 1: 전형적인 협심증, Value2: 비정형 협심증, Value3: 비협상 통증, Value4: 무증상)\n",
    "#trestbps(혈압): 병원 입원시 혈압\n",
    "#chol: 혈청 콜레스테롤 (mg/dl)\n",
    "#fbs: 공복시 혈당 (fbs > 120 mg/dl 이면 1, 아니면 0)\n",
    "#restecg: 심전도(Value 0: 평범, Value 1: 이상 있음, Value2: 가치 2 : Estes의 기준 20 ekgmo에 의해 가능하거나 명확한 좌심실 비대를 보여줌)\n",
    "#thalach: 최대 심박수\n",
    "#exang: 운동 유발 협심증(1: yes, 0: no)\n",
    "#oldpeak: 휴식과 관련된 운동으로 인한 ST 우울증\n",
    "#slope: 피크 운동 ST 세그먼트의 기울기(Value 1: unsloping, Value2: flat, Value3:downsloping)\n",
    "#ca: major 혈관의 갯수(0-3 형광 투시로 색이 정해짐)\n",
    "#thal: 지중해 빈혈(헤모글로빈 이상에 의해 생기는 유전병)\n",
    "#target: 0(없음), 1(있음)"
   ]
  },
  {
   "cell_type": "code",
   "execution_count": 6,
   "metadata": {},
   "outputs": [],
   "source": [
    "heart_data = pd.read_csv('../input/heart.csv')"
   ]
  },
  {
   "cell_type": "code",
   "execution_count": 7,
   "metadata": {},
   "outputs": [
    {
     "data": {
      "text/html": [
       "<div>\n",
       "<style scoped>\n",
       "    .dataframe tbody tr th:only-of-type {\n",
       "        vertical-align: middle;\n",
       "    }\n",
       "\n",
       "    .dataframe tbody tr th {\n",
       "        vertical-align: top;\n",
       "    }\n",
       "\n",
       "    .dataframe thead th {\n",
       "        text-align: right;\n",
       "    }\n",
       "</style>\n",
       "<table border=\"1\" class=\"dataframe\">\n",
       "  <thead>\n",
       "    <tr style=\"text-align: right;\">\n",
       "      <th></th>\n",
       "      <th>age</th>\n",
       "      <th>sex</th>\n",
       "      <th>cp</th>\n",
       "      <th>trestbps</th>\n",
       "      <th>chol</th>\n",
       "      <th>fbs</th>\n",
       "      <th>restecg</th>\n",
       "      <th>thalach</th>\n",
       "      <th>exang</th>\n",
       "      <th>oldpeak</th>\n",
       "      <th>slope</th>\n",
       "      <th>ca</th>\n",
       "      <th>thal</th>\n",
       "      <th>target</th>\n",
       "    </tr>\n",
       "  </thead>\n",
       "  <tbody>\n",
       "    <tr>\n",
       "      <td>0</td>\n",
       "      <td>63</td>\n",
       "      <td>1</td>\n",
       "      <td>3</td>\n",
       "      <td>145</td>\n",
       "      <td>233</td>\n",
       "      <td>1</td>\n",
       "      <td>0</td>\n",
       "      <td>150</td>\n",
       "      <td>0</td>\n",
       "      <td>2.3</td>\n",
       "      <td>0</td>\n",
       "      <td>0</td>\n",
       "      <td>1</td>\n",
       "      <td>1</td>\n",
       "    </tr>\n",
       "    <tr>\n",
       "      <td>1</td>\n",
       "      <td>37</td>\n",
       "      <td>1</td>\n",
       "      <td>2</td>\n",
       "      <td>130</td>\n",
       "      <td>250</td>\n",
       "      <td>0</td>\n",
       "      <td>1</td>\n",
       "      <td>187</td>\n",
       "      <td>0</td>\n",
       "      <td>3.5</td>\n",
       "      <td>0</td>\n",
       "      <td>0</td>\n",
       "      <td>2</td>\n",
       "      <td>1</td>\n",
       "    </tr>\n",
       "    <tr>\n",
       "      <td>2</td>\n",
       "      <td>41</td>\n",
       "      <td>0</td>\n",
       "      <td>1</td>\n",
       "      <td>130</td>\n",
       "      <td>204</td>\n",
       "      <td>0</td>\n",
       "      <td>0</td>\n",
       "      <td>172</td>\n",
       "      <td>0</td>\n",
       "      <td>1.4</td>\n",
       "      <td>2</td>\n",
       "      <td>0</td>\n",
       "      <td>2</td>\n",
       "      <td>1</td>\n",
       "    </tr>\n",
       "    <tr>\n",
       "      <td>3</td>\n",
       "      <td>56</td>\n",
       "      <td>1</td>\n",
       "      <td>1</td>\n",
       "      <td>120</td>\n",
       "      <td>236</td>\n",
       "      <td>0</td>\n",
       "      <td>1</td>\n",
       "      <td>178</td>\n",
       "      <td>0</td>\n",
       "      <td>0.8</td>\n",
       "      <td>2</td>\n",
       "      <td>0</td>\n",
       "      <td>2</td>\n",
       "      <td>1</td>\n",
       "    </tr>\n",
       "    <tr>\n",
       "      <td>4</td>\n",
       "      <td>57</td>\n",
       "      <td>0</td>\n",
       "      <td>0</td>\n",
       "      <td>120</td>\n",
       "      <td>354</td>\n",
       "      <td>0</td>\n",
       "      <td>1</td>\n",
       "      <td>163</td>\n",
       "      <td>1</td>\n",
       "      <td>0.6</td>\n",
       "      <td>2</td>\n",
       "      <td>0</td>\n",
       "      <td>2</td>\n",
       "      <td>1</td>\n",
       "    </tr>\n",
       "  </tbody>\n",
       "</table>\n",
       "</div>"
      ],
      "text/plain": [
       "   age  sex  cp  trestbps  chol  fbs  restecg  thalach  exang  oldpeak  slope  \\\n",
       "0   63    1   3       145   233    1        0      150      0      2.3      0   \n",
       "1   37    1   2       130   250    0        1      187      0      3.5      0   \n",
       "2   41    0   1       130   204    0        0      172      0      1.4      2   \n",
       "3   56    1   1       120   236    0        1      178      0      0.8      2   \n",
       "4   57    0   0       120   354    0        1      163      1      0.6      2   \n",
       "\n",
       "   ca  thal  target  \n",
       "0   0     1       1  \n",
       "1   0     2       1  \n",
       "2   0     2       1  \n",
       "3   0     2       1  \n",
       "4   0     2       1  "
      ]
     },
     "execution_count": 7,
     "metadata": {},
     "output_type": "execute_result"
    }
   ],
   "source": [
    "heart_data.head()\n",
    "##head 또는 tail 메소드로 특정 개수만 볼 수 있다."
   ]
  },
  {
   "cell_type": "code",
   "execution_count": 11,
   "metadata": {},
   "outputs": [
    {
     "name": "stdout",
     "output_type": "stream",
     "text": [
      "Number of Rows: 303\n",
      "Number of Features: 14\n"
     ]
    }
   ],
   "source": [
    "#여기서부터는 데이터를 훑어보는 단계\n",
    "print('Number of Rows:', heart_data.shape[0])\n",
    "print('Number of Features:', heart_data.shape[1])"
   ]
  },
  {
   "cell_type": "code",
   "execution_count": 12,
   "metadata": {},
   "outputs": [
    {
     "name": "stdout",
     "output_type": "stream",
     "text": [
      "<class 'pandas.core.frame.DataFrame'>\n",
      "RangeIndex: 303 entries, 0 to 302\n",
      "Data columns (total 14 columns):\n",
      "age         303 non-null int64\n",
      "sex         303 non-null int64\n",
      "cp          303 non-null int64\n",
      "trestbps    303 non-null int64\n",
      "chol        303 non-null int64\n",
      "fbs         303 non-null int64\n",
      "restecg     303 non-null int64\n",
      "thalach     303 non-null int64\n",
      "exang       303 non-null int64\n",
      "oldpeak     303 non-null float64\n",
      "slope       303 non-null int64\n",
      "ca          303 non-null int64\n",
      "thal        303 non-null int64\n",
      "target      303 non-null int64\n",
      "dtypes: float64(1), int64(13)\n",
      "memory usage: 33.3 KB\n"
     ]
    }
   ],
   "source": [
    "#데이터 프레임의 간결한 요약을 얻는 데 사용된다. \n",
    "#탐색 적 데이터 분석을 수행 할 때 정말 유용하다.\n",
    "#**No Null Values found** 이게 중요한 듯 하다\n",
    "heart_data.info()"
   ]
  },
  {
   "cell_type": "code",
   "execution_count": 41,
   "metadata": {},
   "outputs": [
    {
     "name": "stdout",
     "output_type": "stream",
     "text": [
      "<class 'pandas.core.frame.DataFrame'>\n",
      "<class 'pandas.core.indexes.base.Index'>\n"
     ]
    }
   ],
   "source": [
    "#여기서부터는 탐색적 데이터 분석(EDA) 단계이다.\n",
    "#데이터 분석을 위해\n",
    "#숫자열을 범주열로 변환하는 단계이다.\n",
    "heart_data.columns = ['Age', 'Sex', 'Chest_pain_type', 'Resting_blood_pressure', 'Serum_cholestoral(mg/dl)', \n",
    "                     'Fasting_blood_sugar(mg/dl)', 'Resting_ECG_results', 'Max_heart_rate', 'Exercise_induced_angina',\n",
    "                     'Oldpeak', 'Slope', 'No.of_major_vessels','thalassemia', 'target']\n",
    "print(type(heart_data)) # heart_data의 자료형 \n",
    "print(type(heart_data.columns))"
   ]
  },
  {
   "cell_type": "code",
   "execution_count": 42,
   "metadata": {},
   "outputs": [
    {
     "name": "stdout",
     "output_type": "stream",
     "text": [
      "   Age  Sex  Chest_pain_type  Resting_blood_pressure  \\\n",
      "0   63    1                3                     145   \n",
      "1   37    1                2                     130   \n",
      "2   41    0                1                     130   \n",
      "3   56    1                1                     120   \n",
      "4   57    0                0                     120   \n",
      "\n",
      "   Serum_cholestoral(mg/dl)  Fasting_blood_sugar(mg/dl)  Resting_ECG_results  \\\n",
      "0                       233                           1                    0   \n",
      "1                       250                           0                    1   \n",
      "2                       204                           0                    0   \n",
      "3                       236                           0                    1   \n",
      "4                       354                           0                    1   \n",
      "\n",
      "   Max_heart_rate  Exercise_induced_angina  Oldpeak  Slope  \\\n",
      "0             150                        0      2.3      0   \n",
      "1             187                        0      3.5      0   \n",
      "2             172                        0      1.4      2   \n",
      "3             178                        0      0.8      2   \n",
      "4             163                        1      0.6      2   \n",
      "\n",
      "   No.of_major_vessels  thalassemia  target  \n",
      "0                    0            1       1  \n",
      "1                    0            2       1  \n",
      "2                    0            2       1  \n",
      "3                    0            2       1  \n",
      "4                    0            2       1  \n",
      "<class 'pandas.core.frame.DataFrame'>\n"
     ]
    }
   ],
   "source": [
    "data_sample = heart_data.copy()\n",
    "print(data_sample.head())\n",
    "print(type(data_sample))"
   ]
  },
  {
   "cell_type": "code",
   "execution_count": 43,
   "metadata": {},
   "outputs": [
    {
     "name": "stdout",
     "output_type": "stream",
     "text": [
      "     Age     Sex   Chest_pain_type  Resting_blood_pressure  \\\n",
      "0     63    Male  non-anginal pain                     145   \n",
      "1     37    Male   atypical angina                     130   \n",
      "2     41  Female    typical angina                     130   \n",
      "3     56    Male    typical angina                     120   \n",
      "4     57  Female                 0                     120   \n",
      "..   ...     ...               ...                     ...   \n",
      "298   57  Female                 0                     140   \n",
      "299   45    Male  non-anginal pain                     110   \n",
      "300   68    Male                 0                     144   \n",
      "301   57    Male                 0                     130   \n",
      "302   57  Female    typical angina                     130   \n",
      "\n",
      "     Serum_cholestoral(mg/dl) Fasting_blood_sugar(mg/dl)  \\\n",
      "0                         233      greater than 120mg/ml   \n",
      "1                         250        lower than 120mg/ml   \n",
      "2                         204        lower than 120mg/ml   \n",
      "3                         236        lower than 120mg/ml   \n",
      "4                         354        lower than 120mg/ml   \n",
      "..                        ...                        ...   \n",
      "298                       241        lower than 120mg/ml   \n",
      "299                       264        lower than 120mg/ml   \n",
      "300                       193      greater than 120mg/ml   \n",
      "301                       131        lower than 120mg/ml   \n",
      "302                       236        lower than 120mg/ml   \n",
      "\n",
      "       Resting_ECG_results  Max_heart_rate Exercise_induced_angina  Oldpeak  \\\n",
      "0                   normal             150                      no      2.3   \n",
      "1    ST-T wave abnormality             187                      no      3.5   \n",
      "2                   normal             172                      no      1.4   \n",
      "3    ST-T wave abnormality             178                      no      0.8   \n",
      "4    ST-T wave abnormality             163                     yes      0.6   \n",
      "..                     ...             ...                     ...      ...   \n",
      "298  ST-T wave abnormality             123                     yes      0.2   \n",
      "299  ST-T wave abnormality             132                      no      1.2   \n",
      "300  ST-T wave abnormality             141                      no      3.4   \n",
      "301  ST-T wave abnormality             115                     yes      1.2   \n",
      "302                 normal             174                      no      0.0   \n",
      "\n",
      "         Slope  No.of_major_vessels        thalassemia  target  \n",
      "0            0                    0             normal       1  \n",
      "1            0                    0       fixed defect       1  \n",
      "2         flat                    0       fixed defect       1  \n",
      "3         flat                    0       fixed defect       1  \n",
      "4         flat                    0       fixed defect       1  \n",
      "..         ...                  ...                ...     ...  \n",
      "298  upsloping                    0  reversable defect       0  \n",
      "299  upsloping                    0  reversable defect       0  \n",
      "300  upsloping                    2  reversable defect       0  \n",
      "301  upsloping                    1  reversable defect       0  \n",
      "302  upsloping                    1       fixed defect       0  \n",
      "\n",
      "[303 rows x 14 columns]\n"
     ]
    }
   ],
   "source": [
    "data_sample['Sex'][data_sample['Sex']==1]='Male' #dataSample의 Sex 인덱스의 값이 1이면 남자\n",
    "data_sample['Sex'][data_sample['Sex']==0]='Female'#아니면 여자로 저장한다.\n",
    "# print(data_sample['Sex']) #data_sample['Sex'][0] = Male, data_sample['Sex'][2] = Female 이런식으로.\n",
    "data_sample['Chest_pain_type'][data_sample['Chest_pain_type'] == 1] = 'typical angina' \n",
    "data_sample['Chest_pain_type'][data_sample['Chest_pain_type'] == 2] = 'atypical angina' \n",
    "data_sample['Chest_pain_type'][data_sample['Chest_pain_type'] == 3] = 'non-anginal pain' \n",
    "data_sample['Chest_pain_type'][data_sample['Chest_pain_type'] == 4] = 'asymptomatic'\n",
    "\n",
    "data_sample['Fasting_blood_sugar(mg/dl)'][data_sample['Fasting_blood_sugar(mg/dl)'] == 0] = 'lower than 120mg/ml' \n",
    "data_sample['Fasting_blood_sugar(mg/dl)'][data_sample['Fasting_blood_sugar(mg/dl)'] == 1] = 'greater than 120mg/ml'\n",
    "\n",
    "data_sample['Resting_ECG_results'][data_sample['Resting_ECG_results'] == 0] = 'normal' \n",
    "data_sample['Resting_ECG_results'][data_sample['Resting_ECG_results'] == 1] = 'ST-T wave abnormality' \n",
    "data_sample['Resting_ECG_results'][data_sample['Resting_ECG_results'] == 2] = 'left ventricular hypertrophy'\n",
    "\n",
    "data_sample['Exercise_induced_angina'][data_sample['Exercise_induced_angina'] == 0] = 'no' \n",
    "data_sample['Exercise_induced_angina'][data_sample['Exercise_induced_angina'] == 1] = 'yes'\n",
    "\n",
    "data_sample['Slope'][data_sample['Slope'] == 1] = 'upsloping' \n",
    "data_sample['Slope'][data_sample['Slope'] == 2] = 'flat' \n",
    "data_sample['Slope'][data_sample['Slope'] == 3] = 'downsloping'\n",
    "\n",
    "data_sample['thalassemia'][data_sample['thalassemia'] == 1] = 'normal' \n",
    "data_sample['thalassemia'][data_sample['thalassemia'] == 2] = 'fixed defect' \n",
    "data_sample['thalassemia'][data_sample['thalassemia'] == 3] = 'reversable defect'\n",
    "\n",
    "print(data_sample) #heart_data의 숫자들을 텍스트로 표현 "
   ]
  },
  {
   "cell_type": "code",
   "execution_count": 52,
   "metadata": {},
   "outputs": [
    {
     "data": {
      "image/png": "[encoded data removed]",
      "text/plain": [
       "<Figure size 504x360 with 1 Axes>"
      ]
     },
     "metadata": {},
     "output_type": "display_data"
    }
   ],
   "source": [
    "#Distribution of target을 관찰하는 부분\n",
    "def plot1():\n",
    "    plt.figure(figsize=(7, 5)) #plt.figure로 플롯을 생성하고 옵션은 가로 7인치, 세로 5인치(figsize = (7, 5))\n",
    "    target_count=[len(data_sample[data_sample['target'] == 0]), len(data_sample[data_sample['target'] == 1])] # data_sample에서 [target이 0인 데이터 개수, target이 1인 데이터 개수]\n",
    "    #print(target_count, type(target_count)) #[138, 165], <class 'list'> \n",
    "    labels=['No Disease', 'Disease']\n",
    "    colors=['lightgreen', 'lightblue']\n",
    "    #pie 차트를 그릴 때 쓰는 메소드. plt.pie(label들을 나열하면 된다.)\n",
    "    #autopct는 문자열 format을 정해주는 것\n",
    "    plt.pie(target_count, labels=labels, \n",
    "        colors=colors,autopct='%4.2f%%',shadow=True, startangle=45)\n",
    "    plt.title('Target Percent')\n",
    "    plt.axis('equal')\n",
    "    plt.show() \n",
    "plot1()\n",
    "#거의 비슷한 것을 관찰할 수 있다."
   ]
  },
  {
   "cell_type": "code",
   "execution_count": 54,
   "metadata": {},
   "outputs": [
    {
     "data": {
      "image/png": "[encoded data removed]",
      "text/plain": [
       "<Figure size 504x360 with 1 Axes>"
      ]
     },
     "metadata": {},
     "output_type": "display_data"
    }
   ],
   "source": [
    "#Distribution of Sex\n",
    "def plot2():\n",
    "    plt.figure(figsize=(7,5))\n",
    "    sex_count=[len(data_sample[data_sample['Sex'] == 'Male']), len(data_sample[data_sample['Sex'] == 'Female'])]\n",
    "    labels=['Male', 'Female']\n",
    "    colors=['orange', 'pink']\n",
    "    plt.pie(sex_count, labels=labels, colors=colors,\n",
    "           autopct=\"%4.2f%%\", shadow=True, startangle=45)\n",
    "    plt.title('Sex Percent')\n",
    "    plt.axis('equal')\n",
    "    plt.show()\n",
    "plot2()\n",
    "#Male이 더 많은 숫자를 보이고 있다. 따라서 남자가 여자보다 더 걸리기 쉽다는 것을 의미한다."
   ]
  },
  {
   "cell_type": "code",
   "execution_count": 55,
   "metadata": {},
   "outputs": [
    {
     "data": {
      "image/png": "[encoded data removed]",
      "text/plain": [
       "<Figure size 720x432 with 1 Axes>"
      ]
     },
     "metadata": {
      "needs_background": "light"
     },
     "output_type": "display_data"
    }
   ],
   "source": [
    "#Age distribution\n",
    "def plot3():\n",
    "    plt.figure(figsize=(10,6))\n",
    "    sns.distplot(data_sample['Age'])#distribution을 plot 자동으로 해주는 메소드\n",
    "    plt.title('Age Distribution')\n",
    "    plt.show()\n",
    "plot3()\n",
    "#나이는 대략 정규분포를 따른다는 것을 알 수 있다."
   ]
  },
  {
   "cell_type": "code",
   "execution_count": 56,
   "metadata": {},
   "outputs": [
    {
     "data": {
      "image/png": "[encoded data removed]",
      "text/plain": [
       "<Figure size 2160x720 with 3 Axes>"
      ]
     },
     "metadata": {
      "needs_background": "light"
     },
     "output_type": "display_data"
    }
   ],
   "source": [
    "#Sex and Age vs Disease\n",
    "def plot4():\n",
    " \n",
    "    plt.figure(figsize=(30,10))\n",
    "  \n",
    "    age_bins = [20,30,40,50,60,70,80]\n",
    "    #pd.cut은 동일 길이로 나눌 때 쓰는 메소드이다.\n",
    "    data_sample['bin_age'] = pd.cut(data_sample['Age'], bins=age_bins)\n",
    "  \n",
    "    #plot.subplot() 한 화면에 여러개의 plot을 그릴 수 있는 메소드\n",
    "    #plt.subplot(x, y, z)는 x행 y열 중에서 z번째를 말한다.\n",
    "    plt.subplot(1,3,1)\n",
    "    #sns.countplot은 각 카테고리 값별로 데이터가 얼마나 있는지 표시할 수 있다.\n",
    "    #countplot 명령은 데이터 프레임 안에서만 사용할 수 있다.\n",
    "    p1 = sns.countplot(x='Sex', data=data_sample, hue='target', palette='Set2')\n",
    "    p1.set_title('Sex type vs Heart Disease')\n",
    "    \n",
    "    plt.subplot(1,3,2)\n",
    "    p2 = sns.pointplot(x='Sex', y='Age', data=data_sample, hue='target', palette='Set2')\n",
    "    p2.set_title('Sex type and Age vs Heart Disease')\n",
    "        \n",
    "    plt.subplot(1,3,3)\n",
    "    p3 = sns.countplot(x='bin_age', data=data_sample, hue='target', palette='Set2')\n",
    "    p3.set_title('Age vs Heart Disease')\n",
    "    \n",
    "plot4()\n",
    "#첫번째 그래프\n",
    "#남자가 훨씬 더 걸릴 확률이 크다\n",
    "\n",
    "#두번째 그래프\n",
    "#남자가 걸리는 평균 나이는 51, 여자가 걸리는 평균 나이는 54이다.\n",
    "#세번째 그래프\n",
    "#나이가 (40, 70]사이면 걸리는 사람의 비율이 높다."
   ]
  },
  {
   "cell_type": "code",
   "execution_count": null,
   "metadata": {},
   "outputs": [],
   "source": []
  }
 ],
 "metadata": {
  "kernelspec": {
   "display_name": "Python 3",
   "language": "python",
   "name": "python3"
  },
  "language_info": {
   "codemirror_mode": {
    "name": "ipython",
    "version": 3
   },
   "file_extension": ".py",
   "mimetype": "text/x-python",
   "name": "python",
   "nbconvert_exporter": "python",
   "pygments_lexer": "ipython3",
   "version": "3.7.4"
  }
 },
 "nbformat": 4,
 "nbformat_minor": 2
}
